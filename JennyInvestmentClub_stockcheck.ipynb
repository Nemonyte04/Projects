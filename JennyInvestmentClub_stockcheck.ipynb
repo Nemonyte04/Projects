{
 "cells": [
  {
   "cell_type": "code",
   "execution_count": 2,
   "id": "3c2e0d6a-2b58-4e04-8395-7ffc3e98eb01",
   "metadata": {},
   "outputs": [],
   "source": [
    "from api_key import fmp_api\n",
    "import requests\n",
    "import pandas as pd\n",
    "import pandas_datareader as pdr\n",
    "import numpy as np"
   ]
  },
  {
   "cell_type": "code",
   "execution_count": null,
   "id": "ee6bc27c-8d1f-4354-95b2-699e0bd0758e",
   "metadata": {},
   "outputs": [
    {
     "name": "stdout",
     "output_type": "stream",
     "text": [
      "Ticker: CPRX\n",
      "Annual/Quarterly: Annual\n"
     ]
    },
    {
     "name": "stdout",
     "output_type": "stream",
     "text": [
      "Meets Criteria\n",
      "Meets Criteria\n"
     ]
    }
   ],
   "source": [
    "from api_key import fmp_api\n",
    "import requests\n",
    "import pandas as pd\n",
    "import numpy as np\n",
    "ticker = str(input(\"Ticker:\"))\n",
    "api_key = #api key\n",
    "period = str(input(\"Annual/Quarterly:\"))\n",
    "def validate(ticker):\n",
    "    def get_market_cap():\n",
    "        url = f'https://financialmodelingprep.com/api/v3/market-capitalization/{ticker}?apikey={api_key}'\n",
    "        request = requests.get(url)\n",
    "        data = request.json()\n",
    "        df3 = pd.DataFrame(data).T\n",
    "        marketcap = df3.loc['marketCap']\n",
    "        marketcap\n",
    "    def get_income_statements():\n",
    "        financialattribute = 'income-statement-growth'\n",
    "        url =  url = f'https://financialmodelingprep.com/api/v3/{financialattribute}/{ticker}?period={period}&apikey={api_key}'\n",
    "        request = requests.get(url)\n",
    "        data = request.json()\n",
    "        df1 = pd.DataFrame(data)\n",
    "        a = df1.loc[0:3, ['growthNetIncome', 'growthRevenue']]\n",
    "        a1 = a.T\n",
    "        a1sum = a1.sum(axis = 1)\n",
    "        a1sumavg = a1sum/len(a1.columns)\n",
    "        if a1sumavg.loc['growthNetIncome'] > 0.15 and a1sumavg.loc['growthRevenue'] > 0.15:\n",
    "            print(\"Meets Criteria\")\n",
    "        else:\n",
    "            print(\"Does not Meet Criteria\")\n",
    "    def get_cash_flow():\n",
    "        financialattribute = 'cash-flow-statement-growth'\n",
    "        url =  url = f'https://financialmodelingprep.com/api/v3/{financialattribute}/{ticker}?period={period}&apikey={api_key}'\n",
    "        request = requests.get(url)\n",
    "        data = request.json()\n",
    "        df2 = pd.DataFrame(data)\n",
    "        b = df2.loc[0:3,['growthOperatingCashFlow']]\n",
    "        b1 = b.T\n",
    "        b1sum = b1.sum(axis=1)\n",
    "        b1sumavg = b1sum/len(b1.columns)\n",
    "        if b1sumavg.loc['growthOperatingCashFlow'] > 0.15:\n",
    "            print('Meets Criteria')\n",
    "        else:\n",
    "            print(\"does not meet criteria\") \n",
    "    return get_income_statements(), get_cash_flow(), get_market_cap()\n",
    "validate = validate(ticker)"
   ]
  }
 ],
 "metadata": {
  "kernelspec": {
   "display_name": "Python 3 (ipykernel)",
   "language": "python",
   "name": "python3"
  },
  "language_info": {
   "codemirror_mode": {
    "name": "ipython",
    "version": 3
   },
   "file_extension": ".py",
   "mimetype": "text/x-python",
   "name": "python",
   "nbconvert_exporter": "python",
   "pygments_lexer": "ipython3",
   "version": "3.11.7"
  }
 },
 "nbformat": 4,
 "nbformat_minor": 5
}
